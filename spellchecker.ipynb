{
 "cells": [
  {
   "cell_type": "code",
   "execution_count": 1,
   "id": "247177c7",
   "metadata": {},
   "outputs": [
    {
     "name": "stdout",
     "output_type": "stream",
     "text": [
      "Collecting pyspellchecker\n",
      "  Downloading pyspellchecker-0.6.3-py3-none-any.whl (2.7 MB)\n",
      "\u001b[K     |████████████████████████████████| 2.7 MB 2.7 MB/s eta 0:00:01\n",
      "\u001b[?25hInstalling collected packages: pyspellchecker\n",
      "Successfully installed pyspellchecker-0.6.3\n",
      "Note: you may need to restart the kernel to use updated packages.\n"
     ]
    }
   ],
   "source": [
    "pip install pyspellchecker\n"
   ]
  },
  {
   "cell_type": "code",
   "execution_count": 3,
   "id": "74a230a6",
   "metadata": {},
   "outputs": [
    {
     "name": "stdout",
     "output_type": "stream",
     "text": [
      "computer\n",
      "water\n"
     ]
    }
   ],
   "source": [
    "from spellchecker import SpellChecker\n",
    " \n",
    "spell = SpellChecker()\n",
    " \n",
    "# find those words that may be misspelled\n",
    "misspelled = spell.unknown([\"cmputr\", \"watr\", \"study\", \"wrte\"])\n",
    " \n",
    "for word in misspelled:\n",
    "\n",
    "    print(spell.correction(word))\n"
   ]
  },
  {
   "cell_type": "code",
   "execution_count": null,
   "id": "041ea8c7",
   "metadata": {},
   "outputs": [],
   "source": []
  }
 ],
 "metadata": {
  "kernelspec": {
   "display_name": "Python 3 (ipykernel)",
   "language": "python",
   "name": "python3"
  },
  "language_info": {
   "codemirror_mode": {
    "name": "ipython",
    "version": 3
   },
   "file_extension": ".py",
   "mimetype": "text/x-python",
   "name": "python",
   "nbconvert_exporter": "python",
   "pygments_lexer": "ipython3",
   "version": "3.9.12"
  }
 },
 "nbformat": 4,
 "nbformat_minor": 5
}
